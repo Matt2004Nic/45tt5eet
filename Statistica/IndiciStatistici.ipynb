{
 "cells": [
  {
   "cell_type": "code",
   "execution_count": 21,
   "metadata": {},
   "outputs": [
    {
     "name": "stdout",
     "output_type": "stream",
     "text": [
      "Frequenze cumulate : [ 153  378  713 1277 1623 1756 1831 1880]\n",
      "Numero totale famiglie : 1880\n"
     ]
    },
    {
     "data": {
      "image/png": "[encoded data removed]",
      "text/plain": [
       "<Figure size 720x360 with 1 Axes>"
      ]
     },
     "metadata": {
      "needs_background": "light"
     },
     "output_type": "display_data"
    }
   ],
   "source": [
    "# ESEMPIO tratto da \"Indici di centralità\": TABELLA NUM. COMPONENTI per FAMIGLIA e NUMERO FAMIGLIE\n",
    "# np (oggetti e metodi di NumPy in un namespace ad-hoc)\n",
    "import numpy as np\n",
    "# array (costruttore di oggetti ndarray presenti in NumPy e non in Python, che invece possiede liste e dizionari) \n",
    "ncfamiglia = np.array([1,2,3,4,5,6,7,8]) \n",
    "frequenza = np.array([153,225,335,564,346,133,75,49])\n",
    "# visualizzazione istogramma delle frequenze con media ponderata (average)\n",
    "import matplotlib.pyplot as plt\n",
    "# visualizza le immagini all'interno del notebook in esecuzione\n",
    "%matplotlib inline\n",
    "# definisce l'area del grafico\n",
    "plt.figure(figsize=(10,5))\n",
    "# crea l'istogramma\n",
    "plt.bar(ncfamiglia,frequenza)\n",
    "plt.xlabel(\"numero componenti per famiglia\")\n",
    "plt.ylabel(\"numero di famiglie\")\n",
    "plt.title(\"Tabella FREQUENZE Componenti per Famiglia\")\n",
    "# disegna la retta corrispondente alla media ponderata: passo sia i valori che i rispettivi pesi (frequenze)\n",
    "# axis=None indica che considera tutti gli elementi\n",
    "plt.axvline(np.average(ncfamiglia,None,frequenza), c='navy')\n",
    "# calcolo le frequenze cumulate e il numero totale di famiglie\n",
    "print (\"Frequenze cumulate :\",np.cumsum(frequenza))\n",
    "print (\"Numero totale famiglie :\",np.sum(frequenza))"
   ]
  },
  {
   "cell_type": "code",
   "execution_count": 25,
   "metadata": {},
   "outputs": [
    {
     "data": {
      "text/plain": [
       "array([(b'Raiuno', 7873), (b'Raidue', 2377), (b'Raitre', 2664),\n",
       "       (b'Canale5', 7665), (b'Rete4', 2007), (b'Italia1', 3162),\n",
       "       (b'La7',  910), (b'Altre', 1857)],\n",
       "      dtype=[('Emittenti', 'S8'), ('Telespettatori', '<i4')])"
      ]
     },
     "metadata": {},
     "output_type": "display_data"
    },
    {
     "data": {
      "text/plain": [
       "dtype([('Emittenti', 'S8'), ('Telespettatori', '<i4')])"
      ]
     },
     "metadata": {},
     "output_type": "display_data"
    },
    {
     "data": {
      "text/plain": [
       "(8,)"
      ]
     },
     "metadata": {},
     "output_type": "display_data"
    },
    {
     "data": {
      "text/plain": [
       "<BarContainer object of 8 artists>"
      ]
     },
     "execution_count": 25,
     "metadata": {},
     "output_type": "execute_result"
    },
    {
     "data": {
      "image/png": "[encoded data removed]",
      "text/plain": [
       "<Figure size 432x288 with 1 Axes>"
      ]
     },
     "metadata": {
      "needs_background": "light"
     },
     "output_type": "display_data"
    }
   ],
   "source": [
    "# VERSIONE 1\n",
    "# lettura tabella Emittenti-Telespettatori da file CSV contenuto nella stessa cartella (VARIABILI QUALITATIVE NOMINALI)\n",
    "# utilizzo la funzione di NumPy loadtxt() in quanto non ci sono valori mancanti nel file TV.csv.\n",
    "# Il file viene convertito in un array MONODIMENSIONALE \n",
    "# e ogni elemento è un tipo strutturato definito attraverso il metodo np.dtype()\n",
    "# nel nostro caso la struttura è costituita da una stringa di max 8 caratteri (S8) e un intero (i4 a 32 bit)\n",
    "dtype1 = np.dtype([('Emittenti', 'S8'), ('Telespettatori', 'i4')])\n",
    "# deve saltare la prima riga di intestazione : skiprows=1\n",
    "# e il carattere di separazione tra i campi della struttura è : delimiter=';'\n",
    "a = np.loadtxt('TV.csv', dtype=dtype1, skiprows=1, delimiter=';')\n",
    "display(a,a.dtype,a.shape)\n",
    "plt.bar(a['Emittenti'],a['Telespettatori'])\n",
    "# essendo variabili qualitative non ordinali non ha senso fare le frequenze cumulate!"
   ]
  },
  {
   "cell_type": "code",
   "execution_count": 26,
   "metadata": {},
   "outputs": [
    {
     "name": "stdout",
     "output_type": "stream",
     "text": [
      "  Emittenti  Telespettatori\n",
      "0    Raiuno            7873\n",
      "1    Raidue            2377\n",
      "2    Raitre            2664\n",
      "3   Canale5            7665\n",
      "4     Rete4            2007\n",
      "5   Italia1            3162\n",
      "6       La7             910\n",
      "7     Altre            1857\n",
      "Matrice valori: \n",
      " [['Raiuno' 7873]\n",
      " ['Raidue' 2377]\n",
      " ['Raitre' 2664]\n",
      " ['Canale5' 7665]\n",
      " ['Rete4' 2007]\n",
      " ['Italia1' 3162]\n",
      " ['La7' 910]\n",
      " ['Altre' 1857]] \n",
      " tipo= object \n",
      " dimensione= (8, 2)\n",
      "Matrice trasposta: \n",
      " [['Raiuno' 'Raidue' 'Raitre' 'Canale5' 'Rete4' 'Italia1' 'La7' 'Altre']\n",
      " [7873 2377 2664 7665 2007 3162 910 1857]] \n",
      " dimensione= (2, 8)\n"
     ]
    },
    {
     "data": {
      "text/plain": [
       "<BarContainer object of 8 artists>"
      ]
     },
     "execution_count": 26,
     "metadata": {},
     "output_type": "execute_result"
    },
    {
     "data": {
      "image/png": "[encoded data removed]",
      "text/plain": [
       "<Figure size 432x288 with 1 Axes>"
      ]
     },
     "metadata": {
      "needs_background": "light"
     },
     "output_type": "display_data"
    }
   ],
   "source": [
    "# VERSIONE 2\n",
    "# lettura tabella Emittenti-Telespettatori da file CSV contenuto nella stessa cartella (VARIABILI QUALITATIVE NOMINALI)\n",
    "# utilizzo la libreria Pandas con il comando read_csv() che importa il file come Dataframe\n",
    "import pandas as pd\n",
    "df = pd.read_csv('TV.csv',sep=';')\n",
    "print (df)\n",
    "# converto il dataframe in un array bidimensionale di Numpy di tipo object in quanto i tipi di dati nelle due colonne sono diversi\n",
    "# (non considera la prima riga di intestazione del Dataframe)\n",
    "tab = df.to_numpy()\n",
    "print(\"Matrice valori: \\n\",tab,\"\\n tipo=\",tab.dtype,\"\\n dimensione=\",tab.shape)\n",
    "# faccio la trasposizione dell'array (scambio righe per colonne)\n",
    "tabT = tab.transpose()\n",
    "print (\"Matrice trasposta: \\n\",tabT,\"\\n dimensione=\",tabT.shape)\n",
    "plt.bar(tabT[0],tabT[1])\n",
    "# essendo variabili qualitative non ordinali non ha senso fare le frequenze cumulate!"
   ]
  },
  {
   "cell_type": "code",
   "execution_count": 27,
   "metadata": {},
   "outputs": [
    {
     "name": "stdout",
     "output_type": "stream",
     "text": [
      "Valori unici       : [1 2 3 4 5 6]\n",
      "Numero occorrenze  : [14 24 21 14 11 16]\n",
      "Frequenze cumulate : [ 14  38  59  73  84 100]\n",
      "Indici (prima occorrenza): [6 0 1 2 7 5]\n",
      "Frequenze relative : [0.14 0.24 0.21 0.14 0.11 0.16]\n",
      "Freq. cum.  rel. : [0.14 0.38 0.59 0.73 0.84 1.  ]\n",
      "Moda            :  2\n"
     ]
    },
    {
     "data": {
      "text/plain": [
       "<matplotlib.lines.Line2D at 0x246094d6c88>"
      ]
     },
     "execution_count": 27,
     "metadata": {},
     "output_type": "execute_result"
    },
    {
     "data": {
      "image/png": "[encoded data removed]",
      "text/plain": [
       "<Figure size 432x288 with 1 Axes>"
      ]
     },
     "metadata": {
      "needs_background": "light"
     },
     "output_type": "display_data"
    }
   ],
   "source": [
    "# SIMULAZIONE DEL LANCIO DI 100 DADI (VARIABILI QUANTITATIVE DISCRETE)\n",
    "# importo la funzione mode() della libreria statistics di Python per il calcolo della moda:\n",
    "# tale funzione genera un'eccezione nel caso si presentino più valori con la stessa frequenza massima (gestita con try...except)\n",
    "# le altre funzioni statistiche utilizzate sono di NumPy\n",
    "from statistics import mode\n",
    "# rv=random var : size numeri casuali interi compresi tra 1 e (high-1)\n",
    "# array di 100 interi casuali compresi tra 1 e 6\n",
    "rv=np.random.randint(1,high=7,size=100)\n",
    "#Estraggo i valori unici ed il numero di occorrenze per ogni valore (tabella delle frequenze assolute)\n",
    "uniqueVal, occourC=np.unique(rv,return_counts=True)\n",
    "#Estraggo i valori unici ed il primo indice di dove si trova \n",
    "uniqueVal, indexList=np.unique(rv,return_index=True)\n",
    "#Calcolo le frequenze cumulate (ultima frequenza == size)\n",
    "freqcum = np.cumsum(occourC)\n",
    "#Calcolo la frequenza relativa: numero di occorrenze/(dimensione totale dell'array)\n",
    "freqrel=occourC/occourC.sum()\n",
    "#Calcolo le frequenze cumulate relative (ultima frequenza == 1.00)\n",
    "freqcumrel = np.cumsum(freqrel)\n",
    "#Per plottare le frequenze relative usero' : x= uniqueVal, y=freqrel\n",
    "print (\"Valori unici       :\",uniqueVal)\n",
    "print (\"Numero occorrenze  :\",occourC)\n",
    "print (\"Frequenze cumulate :\",freqcum)\n",
    "print (\"Indici (prima occorrenza):\",indexList)\n",
    "print (\"Frequenze relative :\",freqrel)\n",
    "print (\"Freq. cum.  rel. :\",freqcumrel)\n",
    "# gestione dell'errore della funzione mode() nel caso la distribuzione NON sia UNImodale\n",
    "try:\n",
    "    print (\"Moda            : \",mode(rv))\n",
    "except ValueError:\n",
    "    print(\"Distrubuzione NON UNImodale\")\n",
    "plt.bar(uniqueVal,freqrel)\n",
    "# media con linea continua\n",
    "plt.axvline(np.mean(rv), c='navy')\n",
    "# mediana con linea tratteggiata\n",
    "plt.axvline(np.median(rv), c='navy', linestyle='--')\n",
    "# primo e terzo quartile con linea puntinata\n",
    "plt.axvline(np.quantile(rv,0.25),c='navy', linestyle=':')\n",
    "plt.axvline(np.quantile(rv,0.75),c='navy', linestyle=':')"
   ]
  },
  {
   "cell_type": "code",
   "execution_count": 28,
   "metadata": {},
   "outputs": [
    {
     "name": "stdout",
     "output_type": "stream",
     "text": [
      "['T' 'C' 'C' 'C' 'T' 'C' 'C' 'C' 'C' 'C' 'T' 'C' 'C' 'C' 'T' 'T' 'C' 'C'\n",
      " 'C' 'T' 'C' 'C' 'T' 'T' 'T' 'T' 'C' 'T' 'T' 'T' 'C' 'T' 'T' 'T' 'C' 'C'\n",
      " 'C' 'C' 'T' 'C' 'T' 'T' 'C' 'C' 'T' 'C' 'C' 'T' 'C' 'T']\n",
      "['C' 'T'] [28 22]\n",
      "Moda            :  C\n"
     ]
    }
   ],
   "source": [
    "# SIMULAZIONE DEL LANCIO DI 50 MONETE (Testa/Croce) (VARIABILI QUALITATIVE NOMINALI)\n",
    "# creo un lista con i due valori T e C (o array mono-dimensionale monete = np.array(['T', 'C']))\n",
    "monete = ['T', 'C']\n",
    "# crea un array casuale di 50 valori scelti con ripetizione tra la lista monete\n",
    "rm = np.random.choice(monete, 50)\n",
    "print(rm)\n",
    "#Estraggo i valori unici ed il numero di occorrenze per ogni valore T e C\n",
    "uniqueVal, occourC=np.unique(rm,return_counts=True)\n",
    "print(uniqueVal,occourC)\n",
    "# gestione dell'errore della funzione mode() nel caso la distribuzione NON sia UNImodale\n",
    "from statistics import mode\n",
    "try:\n",
    "    print (\"Moda            : \",mode(rm))\n",
    "except ValueError:\n",
    "    print(\"Distrubuzione NON UNImodale\")"
   ]
  },
  {
   "cell_type": "code",
   "execution_count": 29,
   "metadata": {},
   "outputs": [],
   "source": [
    "# Lettura dei dati grezzi (senza frequenze) da eleborare da un file CSV\n",
    "\n",
    "\n"
   ]
  },
  {
   "cell_type": "code",
   "execution_count": 30,
   "metadata": {},
   "outputs": [
    {
     "name": "stdout",
     "output_type": "stream",
     "text": [
      "n. elementi: 18\n",
      "\n",
      "INDICI di CENTRALITA'\n",
      "media: 32.41111111111112 \n",
      "media ponderata: 32.41111111111112\n",
      "mediana: 31.9\n",
      "Moda            :  30.6\n",
      "primo quartile:  30.6\n",
      "primo quartile:  30.6\n",
      "secondo quartile:  31.9\n",
      "terzo quartile:  34.2\n",
      "terzo quartile:  34.2\n",
      "\n",
      "INDICI di VARIABILITA'\n",
      "campo di variazione:  5.300000000000001\n",
      "campo di variazione interquartile:  3.6000000000000014\n",
      "devianza: 65.41777777777781\n",
      "varianza: 3.634320987654323 varianza campionaria: 3.8481045751634 varianza popolazione: 3.6343209876543225\n",
      "deviazione standard: 1.9063895162464368 devstd campionaria: 1.9616586286006543 devstd popolazione: 1.9063895162464366\n",
      "\n",
      "INDICI di FORMA\n",
      "skew (indice di asimmetria) :  0.20937385147945184\n",
      "kurt (indice di appiattimento) :  -1.5997444686568374\n"
     ]
    },
    {
     "data": {
      "text/plain": [
       "<matplotlib.lines.Line2D at 0x2460a23ae88>"
      ]
     },
     "execution_count": 30,
     "metadata": {},
     "output_type": "execute_result"
    },
    {
     "data": {
      "image/png": "[encoded data removed]",
      "text/plain": [
       "<Figure size 432x288 with 1 Axes>"
      ]
     },
     "metadata": {
      "needs_background": "light"
     },
     "output_type": "display_data"
    }
   ],
   "source": [
    "# Esempio calcolo INDICI di:\n",
    "# CENTRALITA': media, moda, mediana, primo e terzo quartile\n",
    "# VARIABILITA' : devianza (= momento ordine 2), varianza, deviazione standard, campo di variazione, campo di variazione interquartile\n",
    "# FORMA : asimmetria (momento ordine 3 / dev.standard^3), Curtosi (momento ordine 4 / dev.standard^4 - 3)\n",
    "#\n",
    "# SIMMETRIA - ASIMMETRIA\n",
    "# Una distribuzione di dati si dice simmetrica se esiste un valore che divide la distribuzione stessa in\n",
    "# due parti, con gli elementi di ciascuna parte simmetrici dei corrispondenti elementi dell’altra parte.\n",
    "# Se non esiste tale valore, la distribuzione è asimmetrica. \n",
    "# L’indice di asimmetria A misura la mancanza di simmetria della distribuzione di frequenza. In particolare:\n",
    "# •\t Un indice di asimmetria positivo indica una distribuzione in cui i valori sono raggruppati nella\n",
    "# parte dei valori bassi, con una lunga coda verso i valori maggiori: asimmetria a destra.\n",
    "# •\t Il grafico della distribuzione risulta allungato verso destra.\n",
    "# Un indice di asimmetria negativo indica la situazione opposta: asimmetria a sinistra.\n",
    "# Il grafico della distribuzione risulta allungato verso sinistra.\n",
    "# \n",
    "# CURTOSI\n",
    "# L’indice K di curtosi misura il maggiore o minore appuntimento di una distribuzione di dati,\n",
    "# rispetto alla distribuzione normale. Di conseguenza esso indica il maggiore o minore peso dei\n",
    "# valori posti agli estremi della distribuzione (code), rispetto a quelli della parte centrale.\n",
    "# Una forma di distribuzione più appuntita rispetto a quella della distribuzione normale, è detta\n",
    "# leptocurtica, e l’indice K di curtosi risulta positivo.\n",
    "# Una forma di distribuzione meno appuntita rispetto a quella della distribuzione normale, è detta\n",
    "# platicurtica, e l’indice K di curtosi risulta negativo.\n",
    "# •\t Indice di curtosi K = 0: forma normale\n",
    "# •\t Indice di curtosi K > 0: forma leptocurtica\n",
    "# •\t Indice di curtosi K < 0: forma platicurtica\n",
    "\n",
    "from statistics import *\n",
    "a = np.array([33.6, 34.2, 35.0, 30.6, 30.2, 31.4, 34.2, 35.0, 30.6, 30.2, 32.4, 30.6, 30.2, 35.5, 31.3, 34.2, 30.6, 33.6])\n",
    "d = a.shape[0]\n",
    "print('n. elementi:',d)\n",
    "print(\"\\nINDICI di CENTRALITA'\")\n",
    "print('media:',np.mean(a),'\\nmedia ponderata:',np.average(a)) # media ponderata senza array dei pesi coincide con la media\n",
    "print('mediana:',np.median(a))\n",
    "try:\n",
    "    print (\"Moda            : \",mode(a))\n",
    "except ValueError:\n",
    "    print(\"Distrubuzione NON UNImodale\")\n",
    "print('primo quartile: ',np.quantile(a,0.25))\n",
    "print('primo quartile: ', np.percentile(a,25))\n",
    "print('secondo quartile: ',np.quantile(a,0.5))\n",
    "print('terzo quartile: ',np.quantile(a,0.75))\n",
    "print('terzo quartile: ', np.percentile(a,75))\n",
    "print(\"\\nINDICI di VARIABILITA'\")\n",
    "print('campo di variazione: ',np.amax(a)-np.amin(a))\n",
    "print('campo di variazione interquartile: ',np.percentile(a,75)-np.percentile(a,25))\n",
    "print('devianza:',np.var(a)*d)\n",
    "print('varianza:',np.var(a),'varianza campionaria:', variance(a),'varianza popolazione:', pvariance(a))\n",
    "print('deviazione standard:',np.std(a),'devstd campionaria:',stdev(a),'devstd popolazione:', pstdev(a))\n",
    "from scipy.stats import kurtosis\n",
    "from scipy.stats import skew\n",
    "print(\"\\nINDICI di FORMA\")\n",
    "print(\"skew (indice di asimmetria) : \",skew(a))\n",
    "print(\"kurt (indice di appiattimento) : \",kurtosis(a))\n",
    "plt.hist(a, bins=60)\n",
    "plt.axvline(np.mean(a), c='navy')\n",
    "plt.axvline(np.median(a), c='navy', linestyle='--')\n",
    "# primo e terzo quartile con linea puntinata\n",
    "plt.axvline(np.quantile(a,0.25),c='navy', linestyle=':')\n",
    "plt.axvline(np.quantile(a,0.75),c='navy', linestyle=':')"
   ]
  },
  {
   "cell_type": "code",
   "execution_count": 31,
   "metadata": {},
   "outputs": [
    {
     "name": "stdout",
     "output_type": "stream",
     "text": [
      "lung. array 9\n"
     ]
    },
    {
     "data": {
      "text/plain": [
       "<matplotlib.collections.PathCollection at 0x2460a2aa608>"
      ]
     },
     "execution_count": 31,
     "metadata": {},
     "output_type": "execute_result"
    },
    {
     "data": {
      "image/png": "[encoded data removed]",
      "text/plain": [
       "<Figure size 720x360 with 1 Axes>"
      ]
     },
     "metadata": {
      "needs_background": "light"
     },
     "output_type": "display_data"
    }
   ],
   "source": [
    "X = np.array([8,6,9,4,3,3,2,7,7]) \n",
    "Y = np.array([1,3,2,5,8,7,12,2,4])\n",
    "d = np.size(X)\n",
    "print ('lung. array',d)\n",
    "# creazione di un grafico a dispersione con punti (X,Y): (8,1),(6,3),...,(7,4)\n",
    "# per vedere la correlazione tra variabili\n",
    "plt.figure(figsize=(10,5))\n",
    "plt.scatter(X,Y)\n"
   ]
  },
  {
   "cell_type": "code",
   "execution_count": 32,
   "metadata": {},
   "outputs": [
    {
     "name": "stdout",
     "output_type": "stream",
     "text": [
      "devstd(X)= 2.3622546250521443     devstd(Y)= 3.3481153718487473\n"
     ]
    },
    {
     "data": {
      "text/plain": [
       "'covarianza campionaria(sizeArray - 1) fratto deviazioni standard (!= coeff. di correlazione) '"
      ]
     },
     "metadata": {},
     "output_type": "display_data"
    },
    {
     "data": {
      "text/plain": [
       "array([[ 1.125     , -1.02027328],\n",
       "       [-1.02027328,  1.125     ]])"
      ]
     },
     "metadata": {},
     "output_type": "display_data"
    },
    {
     "data": {
      "text/plain": [
       "'covarianza (divisa per sizeArray) fratto deviazioni standard (= coeff. di correlazione) '"
      ]
     },
     "metadata": {},
     "output_type": "display_data"
    },
    {
     "data": {
      "text/plain": [
       "array([[ 1.        , -0.90690958],\n",
       "       [-0.90690958,  1.        ]])"
      ]
     },
     "metadata": {},
     "output_type": "display_data"
    },
    {
     "data": {
      "text/plain": [
       "'coefficiente di correlazione'"
      ]
     },
     "metadata": {},
     "output_type": "display_data"
    },
    {
     "data": {
      "text/plain": [
       "array([[ 1.        , -0.90690958],\n",
       "       [-0.90690958,  1.        ]])"
      ]
     },
     "metadata": {},
     "output_type": "display_data"
    }
   ],
   "source": [
    "# formula del coeff. di correlazione a partire dalla covarianza : covar(X,Y)/(devstd(X)*devstd(y))\n",
    "# se X = Y covvar(X,Y) = var(X)\n",
    "sX = np.std(X)   # devstd(X)\n",
    "sY = np.std(Y)   # devstd(Y)\n",
    "c = np.array([[sX*sX, sX*sY],[sY*sX, sY*sY]])   # matrice devstd(X)*devstd(Y)\n",
    "print('devstd(X)=',sX,'    devstd(Y)=',sY)\n",
    "display('covarianza campionaria(sizeArray - 1) fratto deviazioni standard (!= coeff. di correlazione) ',np.cov(X,Y)/c)\n",
    "display('covarianza (divisa per sizeArray) fratto deviazioni standard (= coeff. di correlazione) ',np.cov(X,Y)*(d-1)/d/c)\n",
    "display('coefficiente di correlazione',np.corrcoef(X,Y))"
   ]
  },
  {
   "cell_type": "code",
   "execution_count": null,
   "metadata": {},
   "outputs": [],
   "source": [
    "# Mappa termica   HEAT MAP pag.129-130\n"
   ]
  },
  {
   "cell_type": "code",
   "execution_count": 34,
   "metadata": {},
   "outputs": [
    {
     "data": {
      "text/plain": [
       "(50,)"
      ]
     },
     "metadata": {},
     "output_type": "display_data"
    },
    {
     "data": {
      "text/plain": [
       "(50,)"
      ]
     },
     "metadata": {},
     "output_type": "display_data"
    },
    {
     "data": {
      "text/plain": [
       "'m:'"
      ]
     },
     "metadata": {},
     "output_type": "display_data"
    },
    {
     "data": {
      "text/plain": [
       "2.8301187690130383"
      ]
     },
     "metadata": {},
     "output_type": "display_data"
    },
    {
     "data": {
      "text/plain": [
       "'q:'"
      ]
     },
     "metadata": {},
     "output_type": "display_data"
    },
    {
     "data": {
      "text/plain": [
       "0.33694038158576256"
      ]
     },
     "metadata": {},
     "output_type": "display_data"
    },
    {
     "data": {
      "text/plain": [
       "'corr:'"
      ]
     },
     "metadata": {},
     "output_type": "display_data"
    },
    {
     "data": {
      "text/plain": [
       "0.9577649275682534"
      ]
     },
     "metadata": {},
     "output_type": "display_data"
    },
    {
     "data": {
      "text/plain": [
       "'err:'"
      ]
     },
     "metadata": {},
     "output_type": "display_data"
    },
    {
     "data": {
      "text/plain": [
       "0.1226427858425738"
      ]
     },
     "metadata": {},
     "output_type": "display_data"
    },
    {
     "data": {
      "text/plain": [
       "<matplotlib.legend.Legend at 0x2460bb93e48>"
      ]
     },
     "execution_count": 34,
     "metadata": {},
     "output_type": "execute_result"
    },
    {
     "data": {
      "image/png": "[encoded data removed]",
      "text/plain": [
       "<Figure size 432x288 with 1 Axes>"
      ]
     },
     "metadata": {
      "needs_background": "light"
     },
     "output_type": "display_data"
    }
   ],
   "source": [
    "# RETTA DI REGRESSIONE\n",
    "import numpy as np\n",
    "from scipy import stats\n",
    "import matplotlib.pyplot as plt\n",
    "#Creare array x e y con 50 punti\n",
    "# i valori di x sono compresi tra 0 e 1 escluso\n",
    "x = np.random.random(50)\n",
    "y = 2.5*x + np.random.random(50)\n",
    "display( x.shape,y.shape )\n",
    "# fare regressione: linregress(x,y) ritorna 5 valori calcolati\n",
    "# 1) slope : float -  pendenza della retta di regressione\n",
    "# 2) intercept : float - intercetta della retta di regressione\n",
    "# 3) r_value : float - coefficiente di correlazione\n",
    "# 4) p_value\n",
    "# 5) std_err : float - standard error del gradiente stimato\n",
    "slope, intercept, r_value, p_value, std_err = stats.linregress(x, y)\n",
    "display(\"m:\",slope,\"q:\",intercept,\"corr:\",r_value,\"err:\",std_err)\n",
    "# Visualizzare i dati raw e il fit (terzo parametro di plot sceglie il colore, il tipo di simbolo, il tipo di linea, ...)\n",
    "fig,ax = plt.subplots()\n",
    "ax.plot(x,y,'o',label='dati originali')\n",
    "ax.plot(x, intercept + slope*x, 'm', label='linea regressione')\n",
    "ax.legend()\n"
   ]
  },
  {
   "cell_type": "code",
   "execution_count": 75,
   "metadata": {},
   "outputs": [],
   "source": [
    "# retta di regressione con Seaborn leggendo dati da un dataset (sito:    ????????????????)\n",
    "import numpy as np \n",
    "import seaborn as sns \n",
    "import matplotlib.pyplot as plt\n",
    "#tips=sns.load_dataset(\"dataset????????\")\n",
    "#sns.regplot(x=\"total_bill\", y=\"tip\", data=tips)\n",
    "#plt.show()"
   ]
  },
  {
   "cell_type": "code",
   "execution_count": null,
   "metadata": {},
   "outputs": [],
   "source": []
  }
 ],
 "metadata": {
  "kernelspec": {
   "display_name": "Python 3",
   "language": "python",
   "name": "python3"
  },
  "language_info": {
   "codemirror_mode": {
    "name": "ipython",
    "version": 3
   },
   "file_extension": ".py",
   "mimetype": "text/x-python",
   "name": "python",
   "nbconvert_exporter": "python",
   "pygments_lexer": "ipython3",
   "version": "3.8.5"
  }
 },
 "nbformat": 4,
 "nbformat_minor": 4
}
